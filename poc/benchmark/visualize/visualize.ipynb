{
 "cells": [
  {
   "cell_type": "markdown",
   "id": "86b80cc0-baaa-40cb-a2b1-f924bd38581f",
   "metadata": {},
   "source": [
    "# Visualization benchmark data"
   ]
  },
  {
   "cell_type": "code",
   "execution_count": null,
   "id": "36adf60c-0b96-405c-a073-a06ab2337633",
   "metadata": {},
   "outputs": [],
   "source": [
    "# Imports\n",
    "import matplotlib.pyplot as plt\n",
    "import numpy as np"
   ]
  },
  {
   "cell_type": "code",
   "execution_count": null,
   "id": "bd4d197e-3c9c-4329-bed0-255ce19e202e",
   "metadata": {},
   "outputs": [],
   "source": [
    "# Requesting data\n",
    "from parsing import parse_results_file\n",
    "\n",
    "cases = parse_results_file(\"../result.jsonl\")\n",
    "print(cases)"
   ]
  },
  {
   "cell_type": "markdown",
   "id": "af6d1e0f",
   "metadata": {},
   "source": [
    "## Latency"
   ]
  },
  {
   "cell_type": "markdown",
   "id": "2b026421",
   "metadata": {},
   "source": [
    "### Bar plot with error bars"
   ]
  },
  {
   "cell_type": "code",
   "execution_count": null,
   "id": "82eacecb",
   "metadata": {},
   "outputs": [],
   "source": [
    "# Extract values\n",
    "x = [case.nr_resources for case in cases]\n",
    "get_latest = [case.duration_get_latest for case in cases]\n",
    "direct = [case.duration_direct for case in cases]\n",
    "\n",
    "mean_get_latest = np.mean(get_latest, axis=1)\n",
    "std_get_latest = np.std(get_latest, axis=1)\n",
    "mean_direct = np.mean(direct, axis = 1)\n",
    "std_direct = np.std(direct, axis = 1)"
   ]
  },
  {
   "cell_type": "code",
   "execution_count": null,
   "id": "81e502c1",
   "metadata": {},
   "outputs": [],
   "source": [
    "# Create a bar plot with error bars to compare average durations\n",
    "\n",
    "width = 0.35  # width of the bars\n",
    "x_pos = np.arange(len(x))  # bar positions\n",
    "\n",
    "fig, ax = plt.subplots(figsize=(10, 6))\n",
    "\n",
    "# Plot bars for get_latest and direct durations\n",
    "bars1 = ax.bar(\n",
    "    x_pos - width / 2,\n",
    "    mean_get_latest,\n",
    "    width,\n",
    "    yerr=std_get_latest,\n",
    "    capsize=5,\n",
    "    label=\"get_latest\",\n",
    "    color=\"blue\",\n",
    "    alpha=0.7,\n",
    ")\n",
    "bars2 = ax.bar(\n",
    "    x_pos + width / 2,\n",
    "    mean_direct,\n",
    "    width,\n",
    "    yerr=std_direct,\n",
    "    capsize=5,\n",
    "    label=\"direct\",\n",
    "    color=\"green\",\n",
    "    alpha=0.7,\n",
    ")\n",
    "\n",
    "# Labeling\n",
    "ax.set_xlabel(\"Number of Resources\")\n",
    "ax.set_ylabel(\"Duration (µs)\")\n",
    "ax.set_xticks(x_pos)\n",
    "ax.set_xticklabels(x)\n",
    "ax.legend()\n",
    "ax.grid(True, axis=\"y\", linestyle=\"--\", alpha=0.6)\n",
    "\n",
    "plt.tight_layout()\n",
    "plt.show()"
   ]
  }
 ],
 "metadata": {
  "kernelspec": {
   "display_name": ".venv",
   "language": "python",
   "name": "python3"
  },
  "language_info": {
   "codemirror_mode": {
    "name": "ipython",
    "version": 3
   },
   "file_extension": ".py",
   "mimetype": "text/x-python",
   "name": "python",
   "nbconvert_exporter": "python",
   "pygments_lexer": "ipython3",
   "version": "3.12.3"
  }
 },
 "nbformat": 4,
 "nbformat_minor": 5
}
